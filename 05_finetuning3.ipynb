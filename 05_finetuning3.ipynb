{
 "cells": [
  {
   "cell_type": "markdown",
   "metadata": {},
   "source": [
    "# AIM : Fully understand the fine tuning process.\n",
    "\n",
    "- Take a model (understand what is in it)\n",
    "- Take a new dataset (try visualizing its contents)\n",
    "- Train (keep it limited such that the GPU is sufficient)\n",
    "- Test the new dataset"
   ]
  }
 ],
 "metadata": {
  "language_info": {
   "name": "python"
  }
 },
 "nbformat": 4,
 "nbformat_minor": 2
}
